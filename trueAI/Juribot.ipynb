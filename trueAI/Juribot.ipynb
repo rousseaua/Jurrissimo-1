{
 "cells": [
  {
   "cell_type": "code",
   "execution_count": 219,
   "metadata": {
    "collapsed": false
   },
   "outputs": [],
   "source": [
    "import pandas as pd\n",
    "from bs4 import BeautifulSoup\n",
    "import unicodedata\n",
    "from nltk.tokenize import sent_tokenize\n",
    "from nltk.corpus import stopwords as wn\n",
    "from nltk.corpus import wordnet\n",
    "from string import maketrans\n",
    "\n",
    "import sklearn.datasets as datasets\n",
    "from time import sleep"
   ]
  },
  {
   "cell_type": "code",
   "execution_count": 220,
   "metadata": {
    "collapsed": false
   },
   "outputs": [],
   "source": [
    "Question_set = pd.read_csv('./questions.csv',sep=';')\n",
    "all_docs= [q for q in Question_set['Question']]\n",
    "all_labels = [l for l in Question_set['Categorie']]"
   ]
  },
  {
   "cell_type": "code",
   "execution_count": 221,
   "metadata": {
    "collapsed": true
   },
   "outputs": [],
   "source": [
    "from nltk import download\n",
    "\n",
    "def nltkDownload():\n",
    "    \"\"\" Vous n'aurez surement pas les stopwords, il vous faudra les télécharger.\n",
    "    \"\"\"\n",
    "    download()\n",
    "\n",
    "def fromVectoBow(all_docs, vec, normalize=True):\n",
    "    bow = vec.fit_transform(all_docs)\n",
    "    bow = bow.tocsr() # permet de print\n",
    "    if normalize:\n",
    "        bow = normalizeBow(bow)\n",
    "    return bow\n",
    "\n",
    "\n",
    "from nltk.corpus import stopwords\n",
    "\n",
    "def makeNltkStopWords(languages=['french', 'english', 'german', 'spanish']):\n",
    "    stop_words = []\n",
    "    for l in languages:\n",
    "        for w in stopwords.words(l):\n",
    "            stop_words.append(w.encode('utf-8')) #w.decode('utf-8') buggait... avec certains caractères\n",
    "    return stop_words"
   ]
  },
  {
   "cell_type": "code",
   "execution_count": 222,
   "metadata": {
    "collapsed": true
   },
   "outputs": [],
   "source": [
    "\n",
    "import sklearn.feature_extraction.text as txt\n",
    "    \n",
    "def fromAllDocsToBow(all_docs, strip_accents=u'ascii', lowercase=True, \\\n",
    "                     preprocessor=None, stop_words=None, token_pattern=u\"[\\\\w']+\\\\w\\\\b\", \\\n",
    "                     analyzer=u'word', max_df=1.0, max_features=20000, vocabulary=None, \\\n",
    "                     binary=False, ngram_range=(1, 1), min_df=1, \\\n",
    "                     normalize=True):\n",
    "    \"\"\" Depuis un liste de documents, génère une matrice sparse contenant les occurences des mots.\n",
    "        A chaque mot est associé un identifiant grace à une table de hashage.\n",
    "    \"\"\"\n",
    "    vec_param = txt.CountVectorizer(all_docs, strip_accents=strip_accents, lowercase=lowercase, preprocessor=preprocessor, \\\n",
    "                            stop_words=stop_words, token_pattern=token_pattern, analyzer=analyzer, max_df=max_df, \\\n",
    "                            max_features=max_features, vocabulary=vocabulary, binary=binary, ngram_range=ngram_range, \\\n",
    "                            min_df=min_df)\n",
    "    bow = fromVectoBow(all_docs, vec_param, normalize)\n",
    "    return bow, vec_param\n",
    "\n",
    "def fromVectoBow(all_docs, vec, normalize=True):\n",
    "    bow = vec.fit_transform(all_docs)\n",
    "    bow = bow.tocsr() # permet de print\n",
    "    if normalize:\n",
    "        bow = normalizeBow(bow)\n",
    "    return bow\n",
    "\n",
    "def normalizeBow(bow):\n",
    "    \"\"\" TFIDF : La somme de toutes les occurences des mots devient égale à 1\n",
    "    \"\"\"\n",
    "    transformer = txt.TfidfTransformer(use_idf=False, smooth_idf=False)\n",
    "    bow_norm = transformer.fit_transform(bow)\n",
    "    return bow_norm   "
   ]
  },
  {
   "cell_type": "code",
   "execution_count": 223,
   "metadata": {
    "collapsed": true
   },
   "outputs": [],
   "source": [
    "import numpy as np\n",
    "import sklearn.naive_bayes as nb\n",
    "from sklearn import svm\n",
    "from sklearn import linear_model as lin\n",
    "from sklearn import cross_validation\n",
    "from sklearn import tree\n",
    "\n",
    "\n",
    "def crossValidation(clf, bow, all_labels, cv=5):\n",
    "    X = bow\n",
    "    y = all_labels\n",
    "    scores = cross_validation.cross_val_score(clf, X, y, cv=5)\n",
    "    np_scores = np.array(scores)\n",
    "    mean = np_scores.mean()\n",
    "    std = np_scores.std()\n",
    "    return scores, mean, std \n",
    "\n",
    "def fit(clf, bow, all_labels):\n",
    "    \"\"\" Indispensable pour obtenir les clf.coef_ utile à la descrimination des mots \"\"\"\n",
    "    X = bow\n",
    "    y = all_labels\n",
    "    clf.fit(X, y)\n",
    "    return clf\n",
    "\n",
    "def predict(clf, docs):\n",
    "    return clf.predict(docs)"
   ]
  },
  {
   "cell_type": "code",
   "execution_count": null,
   "metadata": {
    "collapsed": true
   },
   "outputs": [],
   "source": []
  },
  {
   "cell_type": "code",
   "execution_count": 224,
   "metadata": {
    "collapsed": false
   },
   "outputs": [],
   "source": [
    "# Paramétrage\n",
    "languages = ['french']\n",
    "stop_words = makeNltkStopWords(languages) # si erreur executez nltkDownload()\n",
    "analyzer = u'word' # {‘word’, ‘char’, ‘char_wb’}\n",
    "ngram_range = (1, 1) # unigrammes\n",
    "lowercase = True\n",
    "token_pattern = u\"[\\\\w']+\\\\w\\\\b\" # \n",
    "max_df = 1.0 #default\n",
    "min_df = 5. * 1./len(all_docs) # on enleve les mots qui apparaissent moins de 5 fois\n",
    "max_features = 20000 # nombre de mots au total dans notre matrice sparse\n",
    "binary = False # presence coding or counting\n",
    "strip_accents = u'ascii' #  {‘ascii’, ‘unicode’, None}\n",
    "preprocessor=None\n",
    "vocabulary=None\n",
    "\n",
    "# Vectorisation\n",
    "bow, vec = fromAllDocsToBow(all_docs, strip_accents=strip_accents, lowercase=lowercase, preprocessor=preprocessor, \\\n",
    "                            stop_words=stop_words, token_pattern=token_pattern, analyzer=analyzer, max_df=max_df, \\\n",
    "                            max_features=max_features, vocabulary=vocabulary, binary=binary, ngram_range=ngram_range, \\\n",
    "                            min_df=min_df)\n",
    "\n",
    "#print \"Mots vectorisés du second document :\"\n",
    "#print bow"
   ]
  },
  {
   "cell_type": "markdown",
   "metadata": {},
   "source": [
    "### On crée des modèles"
   ]
  },
  {
   "cell_type": "code",
   "execution_count": 225,
   "metadata": {
    "collapsed": true
   },
   "outputs": [],
   "source": [
    "### Test avec la normalisation"
   ]
  },
  {
   "cell_type": "code",
   "execution_count": 226,
   "metadata": {
    "collapsed": false
   },
   "outputs": [],
   "source": [
    "# Normalisation\n",
    "bow = normalizeBow(bow)"
   ]
  },
  {
   "cell_type": "markdown",
   "metadata": {},
   "source": [
    "### On implémente nos modèles"
   ]
  },
  {
   "cell_type": "code",
   "execution_count": 227,
   "metadata": {
    "collapsed": false
   },
   "outputs": [
    {
     "name": "stdout",
     "output_type": "stream",
     "text": [
      "decision Tree\n",
      "Scores obtenus avec crossValidation : [ 0.88888889  0.77777778  0.88888889  0.75        1.        ]\n",
      "Moyenne : 0.861111111111\n",
      "Ecart type : 0.0895806416478\n",
      "naive bayes\n",
      "Scores obtenus avec crossValidation : [ 0.77777778  0.77777778  0.77777778  0.625       0.83333333]\n",
      "Moyenne : 0.758333333333\n",
      "Ecart type : 0.0700528900718\n",
      "logistic regression\n",
      "Scores obtenus avec crossValidation : [ 0.77777778  0.66666667  0.88888889  0.625       0.83333333]\n",
      "Moyenne : 0.758333333333\n",
      "Ecart type : 0.0992253949972\n"
     ]
    }
   ],
   "source": [
    "dt = tree.DecisionTreeClassifier()\n",
    "# Modèles\n",
    "clf = svm.LinearSVC() # SVM\n",
    "clf_nb = nb.MultinomialNB() # Naive Bayes\n",
    "clf_rl = lin.LogisticRegression() # regression logistique\n",
    "\n",
    "models =[{'name': 'decision Tree','model' :clf},{'name' : 'naive bayes' , 'model' : clf_nb},{'name' : 'logistic regression','model' : clf_rl}]\n",
    "# Cross-Validation\n",
    "for model in models:\n",
    "    print model['name']\n",
    "    scores, mean, std  = crossValidation(model['model'], bow, all_labels, cv=2)\n",
    "    print \"Scores obtenus avec crossValidation :\", scores\n",
    "    print \"Moyenne :\", mean\n",
    "    print \"Ecart type :\", std"
   ]
  },
  {
   "cell_type": "code",
   "execution_count": null,
   "metadata": {
    "collapsed": true
   },
   "outputs": [],
   "source": []
  },
  {
   "cell_type": "markdown",
   "metadata": {},
   "source": [
    "### Test d'un nouveau bot avec de nouvelles données"
   ]
  },
  {
   "cell_type": "code",
   "execution_count": 228,
   "metadata": {
    "collapsed": false
   },
   "outputs": [
    {
     "name": "stdout",
     "output_type": "stream",
     "text": [
      "Il s'agit d'une question sur les délais\n",
      "\n",
      "Pour les contrats de bail d'une location nue ou meublée, la loi prévoit que le dépôt de garantie doit être restitué sous deux mois à compter de la restitution des clefs.\n",
      "Sous un mois si l'état des lieux de sortie correspond à celui établi à l'entrée\n"
     ]
    }
   ],
   "source": [
    "# Motifs; délais; contrat-de-travail ; \n",
    "#all_docs = getAllDocs(docs)\n",
    "\n",
    "#comment = \"\"\"Pour quels raisons résilier mon contrat de bail?\"\"\"\n",
    "#comment2 = \"\"\"Quand est-ce que je récupèrerais mon dépot de garantie?\"\"\"\n",
    "comment = \"Quand mon propriétaire me rendra t-il mon dépot de garantie?\"\n",
    "\n",
    "#comment_bad = \"\"\"attempts\"\"\"\n",
    "\n",
    "#comment_good = \"\"\"enjoyable\"\"\"\n",
    "\n",
    "all_docs.append(comment)\n",
    "#all_docs.append(comment2)\n",
    "\n",
    "len_docs = len(all_docs)\n",
    "\n",
    "bow, vec = fromAllDocsToBow(all_docs, strip_accents=strip_accents, lowercase=lowercase, preprocessor=preprocessor, \\\n",
    "                            stop_words=stop_words, token_pattern=token_pattern, analyzer=analyzer, max_df=max_df, \\\n",
    "                            max_features=max_features, vocabulary=vocabulary, binary=binary, ngram_range=ngram_range, \\\n",
    "                            min_df=min_df)\n",
    "\n",
    "clf = fit(clf, bow[:len_docs-1], all_labels)\n",
    "\n",
    "#print 'Longueur des documents '+ len_docs\n",
    "#print 'Longueur de '\n",
    "\n",
    "pred = predict(clf, bow[len_docs-1])\n",
    "#print \"Classe du commentaire : \", pred[0]\n",
    "\n",
    "prediction = pred[0]\n",
    "\n",
    "if prediction == 0 :\n",
    "    print \"Il s'agit d'une question sur les motifs\\n\"\n",
    "    sleep(3)\n",
    "    print \"Le propriétaire peut résilier un bail locatif :\\n\"\n",
    "    sleep(3)\n",
    "    print \"s'il veut reprendre le logement pour y habiter ou loger un proche, s'il veut le vendre, ou pour les motifs sérieux suivants :\\n\"\n",
    "    sleep(3)\n",
    "    print \"(non-paiement du loyer, non-souscription à une assurance de risques locatifs, troubles du voisinage).\\n\"\n",
    "    sleep(3)\n",
    "    print \"S'il résilie le contrat pour une autre raison.\\n\"\n",
    "    print \"Je vous conseille les voies de recours suivantes : https://www.service-public.fr/particuliers/vosdroits/F31301.\"\n",
    "elif prediction  == 1:\n",
    "    print \"Il s'agit d'une question sur les délais\\n\"\n",
    "    sleep(2)\n",
    "    print \"Pour les contrats de bail d'une location nue ou meublée, la loi prévoit que le dépôt de garantie doit être restitué sous deux mois à compter de la restitution des clefs.\"\n",
    "    sleep(2)\n",
    "    print \"Sous un mois si l'état des lieux de sortie correspond à celui établi à l'entrée\"\n",
    "    sleep(2)\n",
    "        "
   ]
  },
  {
   "cell_type": "markdown",
   "metadata": {},
   "source": [
    "Pour les contrats de bail d'une location nue ou meublée, la loi prévoit que le dépôt de garantie doit être restitué sous deux mois à compter de la restitution des clefs, sous un mois si l'état des lieux de sortie correspond à celui établi à l'entrée. En cas de difficultés dans la restitution du dépôt de garantie sous le délai indiqué, je vous conseille de lire l'article suivant : https://www.service-public.fr/particuliers/vosdroits/F31301."
   ]
  },
  {
   "cell_type": "markdown",
   "metadata": {},
   "source": [
    "### Get new document"
   ]
  },
  {
   "cell_type": "code",
   "execution_count": 229,
   "metadata": {
    "collapsed": false
   },
   "outputs": [
    {
     "data": {
      "text/plain": [
       "['Quand doit on rendre le d\\xc3\\xa9p\\xc3\\xb4t de garantie',\n",
       " 'Quand me restituera-t-on le d\\xc3\\xa9p\\xc3\\xb4t de garantie',\n",
       " 'd\\xc3\\xa9p\\xc3\\xb4t de garantie propri\\xc3\\xa9taire restitution d\\xc3\\xa9lai',\n",
       " 'quel d\\xc3\\xa9lai pour me rendre la caution',\n",
       " 'combien de temps pour r\\xc3\\xa9cup\\xc3\\xa9rer ma caution',\n",
       " 'combien de temps pour r\\xc3\\xa9cup\\xc3\\xa9rer un d\\xc3\\xa9p\\xc3\\xb4t de garantie',\n",
       " 'Mon propri\\xc3\\xa9taire doit il me rendre mon d\\xc3\\xa9p\\xc3\\xb4t de garantie',\n",
       " 'Mon propri\\xc3\\xa9taire nie devoir me rendre mon d\\xc3\\xa9p\\xc3\\xb4t de garantie',\n",
       " 'Mon propri\\xc3\\xa9taire ne veut pas me rembourser ma caution depuis deux mois',\n",
       " 'Mon locataire veut son d\\xc3\\xa9p\\xc3\\xb4t de garantie rapidement',\n",
       " 'litige sur les d\\xc3\\xa9lais pour rendre la caution',\n",
       " 'r\\xc3\\xa9duire les d\\xc3\\xa9lais de pr\\xc3\\xa9avis',\n",
       " 'Quand restituer le d\\xc3\\xa9p\\xc3\\xb4t de garantie',\n",
       " 'd\\xc3\\xa9lai l\\xc3\\xa9gal pour rembourser la caution',\n",
       " 'Comment r\\xc3\\xa9silier mon contrat de location',\n",
       " 'Quels sont les motifs pour terminer un contrat',\n",
       " 'Peut-on mettre fin au bail locatif ?',\n",
       " 'motif de fin de contrat ?',\n",
       " 'quels sont les clauses de r\\xc3\\xa9siliation des baux',\n",
       " 'quelles sont les clauses de fin de bail',\n",
       " 'quelles sont les causes de fin de bail',\n",
       " 'Le propri\\xc3\\xa9taire peut-il mettre fin \\xc3\\xa0 mon bail',\n",
       " 'Sur quels motifs peut-on r\\xc3\\xa9silier un contrat de location',\n",
       " 'mon locataire veut terminer son bail',\n",
       " 'Pour quelles raisons peut-on r\\xc3\\xa9silier un bail',\n",
       " 'propri\\xc3\\xa9taire r\\xc3\\xa9solution bail',\n",
       " 'r\\xc3\\xa9solution baux plein droit',\n",
       " 'motif de fin de contrat locatif',\n",
       " 'est ce une clause de fin de location',\n",
       " 'est ce une cause de fin de location',\n",
       " 'quelles sont les conditions de fin de bail',\n",
       " 'Est ce une condition de fin de contrat',\n",
       " 'Comment d\\xc3\\xa9missionner',\n",
       " 'Je veux un contrat de travail',\n",
       " 'Comment rompre de CDI',\n",
       " 'rupture du contrat de travail',\n",
       " 'Je veux rompre mon contrat de travail',\n",
       " 'Est ce un licenciement abusif',\n",
       " 'Dois-je aller aux prud\\xe2\\x80\\x99hommes',\n",
       " 'Je me suis fait virer',\n",
       " 'Comment donner sa lettre de d\\xc3\\xa9mission',\n",
       " 'Quand mon propri\\xc3\\xa9taire me rendra t-il mon d\\xc3\\xa9pot de garantie?']"
      ]
     },
     "execution_count": 229,
     "metadata": {},
     "output_type": "execute_result"
    }
   ],
   "source": [
    "#all_docs"
   ]
  },
  {
   "cell_type": "code",
   "execution_count": null,
   "metadata": {
    "collapsed": true
   },
   "outputs": [],
   "source": []
  }
 ],
 "metadata": {
  "kernelspec": {
   "display_name": "Python 2",
   "language": "python",
   "name": "python2"
  },
  "language_info": {
   "codemirror_mode": {
    "name": "ipython",
    "version": 2
   },
   "file_extension": ".py",
   "mimetype": "text/x-python",
   "name": "python",
   "nbconvert_exporter": "python",
   "pygments_lexer": "ipython2",
   "version": "2.7.11"
  }
 },
 "nbformat": 4,
 "nbformat_minor": 0
}
