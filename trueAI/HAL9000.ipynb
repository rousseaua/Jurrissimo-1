{
 "cells": [
  {
   "cell_type": "code",
   "execution_count": 224,
   "metadata": {
    "collapsed": false
   },
   "outputs": [],
   "source": [
    "import pandas as pd\n",
    "from bs4 import BeautifulSoup\n",
    "import unicodedata\n",
    "from nltk.tokenize import sent_tokenize\n",
    "from nltk.corpus import stopwords as wn\n",
    "from nltk.corpus import wordnet\n",
    "from string import maketrans\n",
    "\n",
    "import sklearn.datasets as datasets"
   ]
  },
  {
   "cell_type": "code",
   "execution_count": 217,
   "metadata": {
    "collapsed": false
   },
   "outputs": [
    {
     "data": {
      "text/html": [
       "<div>\n",
       "<table border=\"1\" class=\"dataframe\">\n",
       "  <thead>\n",
       "    <tr style=\"text-align: right;\">\n",
       "      <th></th>\n",
       "      <th>Question</th>\n",
       "      <th>Categorie</th>\n",
       "    </tr>\n",
       "  </thead>\n",
       "  <tbody>\n",
       "    <tr>\n",
       "      <th>0</th>\n",
       "      <td>La vie n'est pas tendre.</td>\n",
       "      <td>1</td>\n",
       "    </tr>\n",
       "    <tr>\n",
       "      <th>1</th>\n",
       "      <td>Ceci est ma deuxième question</td>\n",
       "      <td>2</td>\n",
       "    </tr>\n",
       "    <tr>\n",
       "      <th>2</th>\n",
       "      <td>Ceci est une question d'ordre plus général</td>\n",
       "      <td>0</td>\n",
       "    </tr>\n",
       "    <tr>\n",
       "      <th>3</th>\n",
       "      <td>Ceci n'est même pas une question en fait</td>\n",
       "      <td>1</td>\n",
       "    </tr>\n",
       "    <tr>\n",
       "      <th>4</th>\n",
       "      <td>Ceci est encore une autre question</td>\n",
       "      <td>1</td>\n",
       "    </tr>\n",
       "    <tr>\n",
       "      <th>5</th>\n",
       "      <td>Ahahah, je ne comprends pas cette phrase</td>\n",
       "      <td>0</td>\n",
       "    </tr>\n",
       "  </tbody>\n",
       "</table>\n",
       "</div>"
      ],
      "text/plain": [
       "                                     Question   Categorie\n",
       "0                    La vie n'est pas tendre.           1\n",
       "1               Ceci est ma deuxième question           2\n",
       "2  Ceci est une question d'ordre plus général           0\n",
       "3    Ceci n'est même pas une question en fait           1\n",
       "4          Ceci est encore une autre question           1\n",
       "5    Ahahah, je ne comprends pas cette phrase           0"
      ]
     },
     "execution_count": 217,
     "metadata": {},
     "output_type": "execute_result"
    }
   ],
   "source": [
    "Question_set = pd.read_csv('./questions.csv',sep=';')\n",
    "Question_set"
   ]
  },
  {
   "cell_type": "code",
   "execution_count": 218,
   "metadata": {
    "collapsed": true
   },
   "outputs": [],
   "source": [
    "#Working\n",
    "def SentTokenize(s):\n",
    "    var=unicodedata.normalize('NFKD',s.decode(\"utf-8\")).encode('ascii','ignore')\n",
    "    sentence= sent_tokenize(var)\n",
    "    return [c.translate(maketrans(\"?,;:!'.\",\"       \")) for c in sentence]"
   ]
  },
  {
   "cell_type": "code",
   "execution_count": 232,
   "metadata": {
    "collapsed": false
   },
   "outputs": [],
   "source": [
    "#Paramétrage\n",
    "def Vectorize(liste):\n",
    "    analyzer = u'word'\n",
    "    l=['french']\n",
    "    stop_words=[]\n",
    "    for w in stopwords.words(l):\n",
    "        #print type(w)\n",
    "        w2=unicodedata.normalize('NFKD',w).encode('ascii','ignore')\n",
    "        stop_words.append(w2)\n",
    "    lowercase = True\n",
    "    #token = u\"[\\\\w']+\\\\w\\\\b\"\n",
    "    max_df=0.5\n",
    "    max_features = 10000\n",
    "    binary=False # presence coding\n",
    "    strip_accents = u'ascii'\n",
    "    vec = txt.CountVectorizer(strip_accents=strip_accents, lowercase=lowercase, preprocessor=None, stop_words=stop_words, token_pattern=token,analyzer=analyzer, max_features=max_features, vocabulary=None, binary=binary)\n",
    "    print vec\n",
    "    bow = vec.fit_transform([i.decode('utf-8') for i in liste])\n",
    "    transformer = txt.TfidfTransformer(use_idf=True,smooth_idf=True)\n",
    "    bow = transformer.fit_transform(bow)\n",
    "    #bow= vec.inverse_transform(bow)\n",
    "    return bow\n",
    "\n",
    "#SentTokenize(Question_set['Question'])\n",
    "questions = [q for q in Question_set['Question']]"
   ]
  },
  {
   "cell_type": "code",
   "execution_count": 231,
   "metadata": {
    "collapsed": false
   },
   "outputs": [
    {
     "name": "stdout",
     "output_type": "stream",
     "text": [
      "Tokens : \n",
      "\n",
      "[['La vie n est pas tendre '], ['Ceci est ma deuxieme question'], ['Ceci est une question d ordre plus general'], ['Ceci n est meme pas une question en fait'], ['Ceci est encore une autre question'], ['Ahahah  je ne comprends pas cette phrase']]\n",
      "Questions :\n",
      "\n",
      "[\"La vie n'est pas tendre.\", 'Ceci est ma deuxi\\xc3\\xa8me question', \"Ceci est une question d'ordre plus g\\xc3\\xa9n\\xc3\\xa9ral\", \"Ceci n'est m\\xc3\\xaame pas une question en fait\", 'Ceci est encore une autre question', 'Ahahah, je ne comprends pas cette phrase']\n"
     ]
    }
   ],
   "source": [
    "#tokens = map(lambda x : SentTokenize(x), questions)\n",
    "print 'Tokens : \\n'\n",
    "print tokens\n",
    "\n",
    "print 'Questions :\\n'\n",
    "print questions"
   ]
  },
  {
   "cell_type": "code",
   "execution_count": null,
   "metadata": {
    "collapsed": false
   },
   "outputs": [],
   "source": []
  },
  {
   "cell_type": "code",
   "execution_count": null,
   "metadata": {
    "collapsed": false
   },
   "outputs": [],
   "source": [
    "classifiers = [\n",
    "    KNeighborsClassifier(3),\n",
    "    SVC(kernel=\"linear\", C=0.025),\n",
    "    SVC(gamma=2, C=1),\n",
    "    DecisionTreeClassifier(max_depth=5),\n",
    "    RandomForestClassifier(max_depth=5, n_estimators=10, max_features=1),\n",
    "    AdaBoostClassifier(),\n",
    "    GaussianNB(),\n",
    "    LinearDiscriminantAnalysis(),\n",
    "    QuadraticDiscriminantAnalysis()]"
   ]
  },
  {
   "cell_type": "code",
   "execution_count": null,
   "metadata": {
    "collapsed": false
   },
   "outputs": [],
   "source": []
  },
  {
   "cell_type": "markdown",
   "metadata": {},
   "source": [
    "### Implémentation"
   ]
  },
  {
   "cell_type": "code",
   "execution_count": null,
   "metadata": {
    "collapsed": true
   },
   "outputs": [],
   "source": [
    "from sklearn.feature_extraction.text import CountVectorizer"
   ]
  },
  {
   "cell_type": "code",
   "execution_count": 235,
   "metadata": {
    "collapsed": false
   },
   "outputs": [
    {
     "data": {
      "text/html": [
       "<div>\n",
       "<table border=\"1\" class=\"dataframe\">\n",
       "  <thead>\n",
       "    <tr style=\"text-align: right;\">\n",
       "      <th></th>\n",
       "      <th>Question</th>\n",
       "      <th>Categorie</th>\n",
       "    </tr>\n",
       "  </thead>\n",
       "  <tbody>\n",
       "    <tr>\n",
       "      <th>0</th>\n",
       "      <td>Quand doit on rendre le dépôt de garantie</td>\n",
       "      <td>1</td>\n",
       "    </tr>\n",
       "    <tr>\n",
       "      <th>1</th>\n",
       "      <td>Quand me restituera-t-on le dépôt de garantie</td>\n",
       "      <td>1</td>\n",
       "    </tr>\n",
       "    <tr>\n",
       "      <th>2</th>\n",
       "      <td>dépôt de garantie propriétaire restitution délai</td>\n",
       "      <td>1</td>\n",
       "    </tr>\n",
       "    <tr>\n",
       "      <th>3</th>\n",
       "      <td>quel délai pour me rendre la caution</td>\n",
       "      <td>1</td>\n",
       "    </tr>\n",
       "    <tr>\n",
       "      <th>4</th>\n",
       "      <td>combien de temps pour récupérer ma caution</td>\n",
       "      <td>1</td>\n",
       "    </tr>\n",
       "    <tr>\n",
       "      <th>5</th>\n",
       "      <td>Mon propriétaire doit il me rendre mon dépôt d...</td>\n",
       "      <td>1</td>\n",
       "    </tr>\n",
       "    <tr>\n",
       "      <th>6</th>\n",
       "      <td>Mon propriétaire nie devoir me rendre mon dépô...</td>\n",
       "      <td>1</td>\n",
       "    </tr>\n",
       "    <tr>\n",
       "      <th>7</th>\n",
       "      <td>Mon propriétaire ne veut pas me rembourser ma ...</td>\n",
       "      <td>1</td>\n",
       "    </tr>\n",
       "    <tr>\n",
       "      <th>8</th>\n",
       "      <td>Mon locataire veut son dépôt de garantie rapid...</td>\n",
       "      <td>1</td>\n",
       "    </tr>\n",
       "    <tr>\n",
       "      <th>9</th>\n",
       "      <td>litige sur les délais pour rendre la caution</td>\n",
       "      <td>1</td>\n",
       "    </tr>\n",
       "    <tr>\n",
       "      <th>10</th>\n",
       "      <td>réduire les délais de préavis</td>\n",
       "      <td>1</td>\n",
       "    </tr>\n",
       "    <tr>\n",
       "      <th>11</th>\n",
       "      <td>Quand restituer le dépôt de garantie</td>\n",
       "      <td>1</td>\n",
       "    </tr>\n",
       "    <tr>\n",
       "      <th>12</th>\n",
       "      <td>délai légal pour rembourser la caution</td>\n",
       "      <td>1</td>\n",
       "    </tr>\n",
       "    <tr>\n",
       "      <th>13</th>\n",
       "      <td>Comment résilier mon contrat de location</td>\n",
       "      <td>0</td>\n",
       "    </tr>\n",
       "    <tr>\n",
       "      <th>14</th>\n",
       "      <td>Quels sont les motifs pour terminer un contrat</td>\n",
       "      <td>0</td>\n",
       "    </tr>\n",
       "    <tr>\n",
       "      <th>15</th>\n",
       "      <td>Peut-on mettre fin au bail locatif ?</td>\n",
       "      <td>0</td>\n",
       "    </tr>\n",
       "    <tr>\n",
       "      <th>16</th>\n",
       "      <td>motif de fin de contrait ?</td>\n",
       "      <td>0</td>\n",
       "    </tr>\n",
       "    <tr>\n",
       "      <th>17</th>\n",
       "      <td>quels sont les clauses de résiliation des baux</td>\n",
       "      <td>0</td>\n",
       "    </tr>\n",
       "    <tr>\n",
       "      <th>18</th>\n",
       "      <td>clause de fin de bail</td>\n",
       "      <td>0</td>\n",
       "    </tr>\n",
       "    <tr>\n",
       "      <th>19</th>\n",
       "      <td>Le propriétaire peut-il mettre fin à mon bail</td>\n",
       "      <td>0</td>\n",
       "    </tr>\n",
       "    <tr>\n",
       "      <th>20</th>\n",
       "      <td>Sur quels motifs peut-on résilier un contrat d...</td>\n",
       "      <td>0</td>\n",
       "    </tr>\n",
       "    <tr>\n",
       "      <th>21</th>\n",
       "      <td>mon locataire veut terminer son bail</td>\n",
       "      <td>0</td>\n",
       "    </tr>\n",
       "    <tr>\n",
       "      <th>22</th>\n",
       "      <td>Pour quelles raisons peut-on résilier un bail</td>\n",
       "      <td>0</td>\n",
       "    </tr>\n",
       "    <tr>\n",
       "      <th>23</th>\n",
       "      <td>propriétaire résolution bail</td>\n",
       "      <td>0</td>\n",
       "    </tr>\n",
       "    <tr>\n",
       "      <th>24</th>\n",
       "      <td>résolution baux plein droit</td>\n",
       "      <td>0</td>\n",
       "    </tr>\n",
       "    <tr>\n",
       "      <th>25</th>\n",
       "      <td>motif de fin de contrat locatif</td>\n",
       "      <td>0</td>\n",
       "    </tr>\n",
       "    <tr>\n",
       "      <th>26</th>\n",
       "      <td>clause de fin de location</td>\n",
       "      <td>0</td>\n",
       "    </tr>\n",
       "    <tr>\n",
       "      <th>27</th>\n",
       "      <td>quelles sont les conditions de fin de bail</td>\n",
       "      <td>0</td>\n",
       "    </tr>\n",
       "    <tr>\n",
       "      <th>28</th>\n",
       "      <td>Est ce une condition de fin de contrat</td>\n",
       "      <td>0</td>\n",
       "    </tr>\n",
       "    <tr>\n",
       "      <th>29</th>\n",
       "      <td>Comment démissionner</td>\n",
       "      <td>2</td>\n",
       "    </tr>\n",
       "    <tr>\n",
       "      <th>30</th>\n",
       "      <td>Je veux un contrat de travail</td>\n",
       "      <td>2</td>\n",
       "    </tr>\n",
       "    <tr>\n",
       "      <th>31</th>\n",
       "      <td>Comment rompre de CDI</td>\n",
       "      <td>2</td>\n",
       "    </tr>\n",
       "    <tr>\n",
       "      <th>32</th>\n",
       "      <td>rupture du contrat de travail</td>\n",
       "      <td>2</td>\n",
       "    </tr>\n",
       "    <tr>\n",
       "      <th>33</th>\n",
       "      <td>Je veux rompre mon contrait de travail</td>\n",
       "      <td>2</td>\n",
       "    </tr>\n",
       "    <tr>\n",
       "      <th>34</th>\n",
       "      <td>Est ce un licenciement abusif</td>\n",
       "      <td>2</td>\n",
       "    </tr>\n",
       "    <tr>\n",
       "      <th>35</th>\n",
       "      <td>Dois-je aller aux prud’hommes</td>\n",
       "      <td>2</td>\n",
       "    </tr>\n",
       "    <tr>\n",
       "      <th>36</th>\n",
       "      <td>Je me suis fait virer</td>\n",
       "      <td>2</td>\n",
       "    </tr>\n",
       "    <tr>\n",
       "      <th>37</th>\n",
       "      <td>Comment donner sa lettre de démission</td>\n",
       "      <td>2</td>\n",
       "    </tr>\n",
       "  </tbody>\n",
       "</table>\n",
       "</div>"
      ],
      "text/plain": [
       "                                             Question   Categorie\n",
       "0           Quand doit on rendre le dépôt de garantie           1\n",
       "1       Quand me restituera-t-on le dépôt de garantie           1\n",
       "2    dépôt de garantie propriétaire restitution délai           1\n",
       "3                quel délai pour me rendre la caution           1\n",
       "4          combien de temps pour récupérer ma caution           1\n",
       "5   Mon propriétaire doit il me rendre mon dépôt d...           1\n",
       "6   Mon propriétaire nie devoir me rendre mon dépô...           1\n",
       "7   Mon propriétaire ne veut pas me rembourser ma ...           1\n",
       "8   Mon locataire veut son dépôt de garantie rapid...           1\n",
       "9        litige sur les délais pour rendre la caution           1\n",
       "10                      réduire les délais de préavis           1\n",
       "11               Quand restituer le dépôt de garantie           1\n",
       "12             délai légal pour rembourser la caution           1\n",
       "13           Comment résilier mon contrat de location           0\n",
       "14     Quels sont les motifs pour terminer un contrat           0\n",
       "15               Peut-on mettre fin au bail locatif ?           0\n",
       "16                         motif de fin de contrait ?           0\n",
       "17     quels sont les clauses de résiliation des baux           0\n",
       "18                              clause de fin de bail           0\n",
       "19      Le propriétaire peut-il mettre fin à mon bail           0\n",
       "20  Sur quels motifs peut-on résilier un contrat d...           0\n",
       "21               mon locataire veut terminer son bail           0\n",
       "22      Pour quelles raisons peut-on résilier un bail           0\n",
       "23                       propriétaire résolution bail           0\n",
       "24                        résolution baux plein droit           0\n",
       "25                    motif de fin de contrat locatif           0\n",
       "26                          clause de fin de location           0\n",
       "27         quelles sont les conditions de fin de bail           0\n",
       "28             Est ce une condition de fin de contrat           0\n",
       "29                               Comment démissionner           2\n",
       "30                      Je veux un contrat de travail           2\n",
       "31                              Comment rompre de CDI           2\n",
       "32                      rupture du contrat de travail           2\n",
       "33             Je veux rompre mon contrait de travail           2\n",
       "34                      Est ce un licenciement abusif           2\n",
       "35                      Dois-je aller aux prud’hommes           2\n",
       "36                              Je me suis fait virer           2\n",
       "37              Comment donner sa lettre de démission           2"
      ]
     },
     "execution_count": 235,
     "metadata": {},
     "output_type": "execute_result"
    }
   ],
   "source": [
    "Question_set = pd.read_csv('./questions.csv',sep=';')\n",
    "Question_set\n",
    "#vectorizer= Vectorize(Questio)"
   ]
  },
  {
   "cell_type": "code",
   "execution_count": null,
   "metadata": {
    "collapsed": true
   },
   "outputs": [],
   "source": []
  },
  {
   "cell_type": "code",
   "execution_count": null,
   "metadata": {
    "collapsed": true
   },
   "outputs": [],
   "source": []
  },
  {
   "cell_type": "code",
   "execution_count": null,
   "metadata": {
    "collapsed": true
   },
   "outputs": [],
   "source": []
  }
 ],
 "metadata": {
  "kernelspec": {
   "display_name": "Python 2",
   "language": "python",
   "name": "python2"
  },
  "language_info": {
   "codemirror_mode": {
    "name": "ipython",
    "version": 2
   },
   "file_extension": ".py",
   "mimetype": "text/x-python",
   "name": "python",
   "nbconvert_exporter": "python",
   "pygments_lexer": "ipython2",
   "version": "2.7.11"
  }
 },
 "nbformat": 4,
 "nbformat_minor": 0
}
